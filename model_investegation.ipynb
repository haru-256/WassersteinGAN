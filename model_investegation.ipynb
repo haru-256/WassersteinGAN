{
 "cells": [
  {
   "cell_type": "code",
   "execution_count": 1,
   "metadata": {},
   "outputs": [],
   "source": [
    "import numpy as np\n",
    "import random\n",
    "import torch\n",
    "import torch.nn as nn\n",
    "import torch.nn.parallel\n",
    "import torch.backends.cudnn as cudnn\n",
    "import torch.optim as optim\n",
    "import torch.utils.data\n",
    "import torchvision.datasets as dset\n",
    "import torchvision.transforms as transforms\n",
    "import torchvision.utils as vutils\n",
    "from torch.autograd import Variable\n",
    "import os\n",
    "\n",
    "import models.dcgan as dcgan\n",
    "import models.mlp as mlp\n"
   ]
  },
  {
   "cell_type": "code",
   "execution_count": 14,
   "metadata": {},
   "outputs": [],
   "source": [
    "def weights_init(m):\n",
    "    classname = m.__class__.__name__\n",
    "    if classname.find('Conv') != -1:\n",
    "        m.weight.data.normal_(0.0, 0.02)\n",
    "        print(m)\n",
    "        print(\"'W' mean: {0}, std: {1}\".format(\n",
    "            m.weight.data.mean(), m.weight.data.std()))\n",
    "        print()\n",
    "    elif classname.find('BatchNorm') != -1:\n",
    "        m.weight.data.normal_(1.0, 0.02)\n",
    "        m.bias.data.fill_(0)\n",
    "        print(m)\n",
    "        print(\"'W' mean: {0}, std: {1}\".format(\n",
    "            m.weight.data.mean(), m.weight.data.std()))\n",
    "        print(\"'b' mean: {0}, std: {1}\".format(\n",
    "            m.bias.data.mean(), m.bias.data.std()))\n",
    "        print()\n",
    "    else:\n",
    "        print(classname)\n",
    "        print()"
   ]
  },
  {
   "cell_type": "code",
   "execution_count": 15,
   "metadata": {},
   "outputs": [],
   "source": [
    "netG = dcgan.DCGAN_G(64, 100, 3, 64, 1, 0)"
   ]
  },
  {
   "cell_type": "code",
   "execution_count": 16,
   "metadata": {},
   "outputs": [
    {
     "name": "stdout",
     "output_type": "stream",
     "text": [
      "ConvTranspose2d(100, 512, kernel_size=(4, 4), stride=(1, 1), bias=False)\n",
      "'W' mean: -9.007890184875578e-06, std: 0.02000388689339161\n",
      "\n",
      "BatchNorm2d(512, eps=1e-05, momentum=0.1, affine=True, track_running_stats=True)\n",
      "'W' mean: 1.00065279006958, std: 0.02039995975792408\n",
      "'b' mean: 0.0, std: 0.0\n",
      "\n",
      "ReLU\n",
      "\n",
      "ConvTranspose2d(512, 256, kernel_size=(4, 4), stride=(2, 2), padding=(1, 1), bias=False)\n",
      "'W' mean: 1.1788062693085521e-05, std: 0.020006170496344566\n",
      "\n",
      "BatchNorm2d(256, eps=1e-05, momentum=0.1, affine=True, track_running_stats=True)\n",
      "'W' mean: 0.9978319406509399, std: 0.01966889761388302\n",
      "'b' mean: 0.0, std: 0.0\n",
      "\n",
      "ReLU\n",
      "\n",
      "ConvTranspose2d(256, 128, kernel_size=(4, 4), stride=(2, 2), padding=(1, 1), bias=False)\n",
      "'W' mean: 2.4888087864383124e-05, std: 0.01996551640331745\n",
      "\n",
      "BatchNorm2d(128, eps=1e-05, momentum=0.1, affine=True, track_running_stats=True)\n",
      "'W' mean: 0.997511088848114, std: 0.020087389275431633\n",
      "'b' mean: 0.0, std: 0.0\n",
      "\n",
      "ReLU\n",
      "\n",
      "ConvTranspose2d(128, 64, kernel_size=(4, 4), stride=(2, 2), padding=(1, 1), bias=False)\n",
      "'W' mean: 3.757521335501224e-05, std: 0.02004857175052166\n",
      "\n",
      "BatchNorm2d(64, eps=1e-05, momentum=0.1, affine=True, track_running_stats=True)\n",
      "'W' mean: 0.9981544017791748, std: 0.018929090350866318\n",
      "'b' mean: 0.0, std: 0.0\n",
      "\n",
      "ReLU\n",
      "\n",
      "ConvTranspose2d(64, 3, kernel_size=(4, 4), stride=(2, 2), padding=(1, 1), bias=False)\n",
      "'W' mean: -0.00018507844652049243, std: 0.019394343718886375\n",
      "\n",
      "Tanh\n",
      "\n",
      "Sequential\n",
      "\n",
      "DCGAN_G\n",
      "\n"
     ]
    },
    {
     "data": {
      "text/plain": [
       "DCGAN_G(\n",
       "  (main): Sequential(\n",
       "    (initial_100-512_convt): ConvTranspose2d(100, 512, kernel_size=(4, 4), stride=(1, 1), bias=False)\n",
       "    (initial_512_batchnorm): BatchNorm2d(512, eps=1e-05, momentum=0.1, affine=True, track_running_stats=True)\n",
       "    (initial_512_relu): ReLU(inplace)\n",
       "    (pyramid_512-256_convt): ConvTranspose2d(512, 256, kernel_size=(4, 4), stride=(2, 2), padding=(1, 1), bias=False)\n",
       "    (pyramid_256_batchnorm): BatchNorm2d(256, eps=1e-05, momentum=0.1, affine=True, track_running_stats=True)\n",
       "    (pyramid_256_relu): ReLU(inplace)\n",
       "    (pyramid_256-128_convt): ConvTranspose2d(256, 128, kernel_size=(4, 4), stride=(2, 2), padding=(1, 1), bias=False)\n",
       "    (pyramid_128_batchnorm): BatchNorm2d(128, eps=1e-05, momentum=0.1, affine=True, track_running_stats=True)\n",
       "    (pyramid_128_relu): ReLU(inplace)\n",
       "    (pyramid_128-64_convt): ConvTranspose2d(128, 64, kernel_size=(4, 4), stride=(2, 2), padding=(1, 1), bias=False)\n",
       "    (pyramid_64_batchnorm): BatchNorm2d(64, eps=1e-05, momentum=0.1, affine=True, track_running_stats=True)\n",
       "    (pyramid_64_relu): ReLU(inplace)\n",
       "    (final_64-3_convt): ConvTranspose2d(64, 3, kernel_size=(4, 4), stride=(2, 2), padding=(1, 1), bias=False)\n",
       "    (final_3_tanh): Tanh()\n",
       "  )\n",
       ")"
      ]
     },
     "execution_count": 16,
     "metadata": {},
     "output_type": "execute_result"
    }
   ],
   "source": [
    "netG.apply(weights_init)"
   ]
  },
  {
   "cell_type": "code",
   "execution_count": 19,
   "metadata": {},
   "outputs": [],
   "source": [
    "netD = dcgan.DCGAN_D(64, 100, 3, 64, 1, 0)"
   ]
  },
  {
   "cell_type": "code",
   "execution_count": 20,
   "metadata": {},
   "outputs": [
    {
     "name": "stdout",
     "output_type": "stream",
     "text": [
      "Conv2d(3, 64, kernel_size=(4, 4), stride=(2, 2), padding=(1, 1), bias=False)\n",
      "'W' mean: -0.0009491209057159722, std: 0.02020801045000553\n",
      "\n",
      "LeakyReLU\n",
      "\n",
      "Conv2d(64, 128, kernel_size=(4, 4), stride=(2, 2), padding=(1, 1), bias=False)\n",
      "'W' mean: -6.40585640212521e-05, std: 0.020035505294799805\n",
      "\n",
      "BatchNorm2d(128, eps=1e-05, momentum=0.1, affine=True, track_running_stats=True)\n",
      "'W' mean: 0.9989120960235596, std: 0.020514201372861862\n",
      "'b' mean: 0.0, std: 0.0\n",
      "\n",
      "LeakyReLU\n",
      "\n",
      "Conv2d(128, 256, kernel_size=(4, 4), stride=(2, 2), padding=(1, 1), bias=False)\n",
      "'W' mean: -3.122820271528326e-05, std: 0.019969118759036064\n",
      "\n",
      "BatchNorm2d(256, eps=1e-05, momentum=0.1, affine=True, track_running_stats=True)\n",
      "'W' mean: 1.0002846717834473, std: 0.02025088667869568\n",
      "'b' mean: 0.0, std: 0.0\n",
      "\n",
      "LeakyReLU\n",
      "\n",
      "Conv2d(256, 512, kernel_size=(4, 4), stride=(2, 2), padding=(1, 1), bias=False)\n",
      "'W' mean: 1.9230408724979497e-05, std: 0.01998784765601158\n",
      "\n",
      "BatchNorm2d(512, eps=1e-05, momentum=0.1, affine=True, track_running_stats=True)\n",
      "'W' mean: 0.9996060132980347, std: 0.01975490339100361\n",
      "'b' mean: 0.0, std: 0.0\n",
      "\n",
      "LeakyReLU\n",
      "\n",
      "Conv2d(512, 1, kernel_size=(4, 4), stride=(1, 1), bias=False)\n",
      "'W' mean: 0.00033726374385878444, std: 0.020315613597631454\n",
      "\n",
      "Sequential\n",
      "\n",
      "DCGAN_D\n",
      "\n"
     ]
    },
    {
     "data": {
      "text/plain": [
       "DCGAN_D(\n",
       "  (main): Sequential(\n",
       "    (initial_conv_3-64): Conv2d(3, 64, kernel_size=(4, 4), stride=(2, 2), padding=(1, 1), bias=False)\n",
       "    (initial_relu_64): LeakyReLU(negative_slope=0.2, inplace)\n",
       "    (pyramid_64-128_conv): Conv2d(64, 128, kernel_size=(4, 4), stride=(2, 2), padding=(1, 1), bias=False)\n",
       "    (pyramid_128_batchnorm): BatchNorm2d(128, eps=1e-05, momentum=0.1, affine=True, track_running_stats=True)\n",
       "    (pyramid_128_relu): LeakyReLU(negative_slope=0.2, inplace)\n",
       "    (pyramid_128-256_conv): Conv2d(128, 256, kernel_size=(4, 4), stride=(2, 2), padding=(1, 1), bias=False)\n",
       "    (pyramid_256_batchnorm): BatchNorm2d(256, eps=1e-05, momentum=0.1, affine=True, track_running_stats=True)\n",
       "    (pyramid_256_relu): LeakyReLU(negative_slope=0.2, inplace)\n",
       "    (pyramid_256-512_conv): Conv2d(256, 512, kernel_size=(4, 4), stride=(2, 2), padding=(1, 1), bias=False)\n",
       "    (pyramid_512_batchnorm): BatchNorm2d(512, eps=1e-05, momentum=0.1, affine=True, track_running_stats=True)\n",
       "    (pyramid_512_relu): LeakyReLU(negative_slope=0.2, inplace)\n",
       "    (final_512-1_conv): Conv2d(512, 1, kernel_size=(4, 4), stride=(1, 1), bias=False)\n",
       "  )\n",
       ")"
      ]
     },
     "execution_count": 20,
     "metadata": {},
     "output_type": "execute_result"
    }
   ],
   "source": [
    "netD.apply(weights_init)"
   ]
  },
  {
   "cell_type": "code",
   "execution_count": null,
   "metadata": {},
   "outputs": [],
   "source": []
  }
 ],
 "metadata": {
  "kernelspec": {
   "display_name": "Python 3",
   "language": "python",
   "name": "python3"
  },
  "language_info": {
   "codemirror_mode": {
    "name": "ipython",
    "version": 3
   },
   "file_extension": ".py",
   "mimetype": "text/x-python",
   "name": "python",
   "nbconvert_exporter": "python",
   "pygments_lexer": "ipython3",
   "version": "3.6.4"
  }
 },
 "nbformat": 4,
 "nbformat_minor": 2
}
